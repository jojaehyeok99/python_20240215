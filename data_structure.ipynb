{
 "cells": [
  {
   "cell_type": "code",
   "execution_count": null,
   "metadata": {},
   "outputs": [],
   "source": [
    "# 리스트\n",
    "# 순서가 존재하고 중복을 허용하는 자료 구조형\n",
    "# 파이썬에서는 변수의 데이터 타입이 없듯이 모든 타입을 하나의 리스트에 담을 수 있음\n",
    "# 리스트 표현 : [요소1, 요소2, 요소3, ...] "
   ]
  },
  {
   "cell_type": "code",
   "execution_count": null,
   "metadata": {},
   "outputs": [],
   "source": [
    "array = [1, 3.14, '문자열', True]\n",
    "array"
   ]
  },
  {
   "cell_type": "code",
   "execution_count": null,
   "metadata": {},
   "outputs": [],
   "source": [
    "# 인덱스(index) :자료의 순서를 뜻하는 숫자를 \n",
    "array[0]"
   ]
  },
  {
   "cell_type": "code",
   "execution_count": null,
   "metadata": {},
   "outputs": [],
   "source": [
    "# 인덱스 번호 (-)이면 뒤에서부터 찾는다\n",
    "array[-1]"
   ]
  },
  {
   "cell_type": "code",
   "execution_count": null,
   "metadata": {},
   "outputs": [],
   "source": [
    "# 인덱스 범위를 벗어나면 오류\n",
    "# array[4]"
   ]
  },
  {
   "cell_type": "code",
   "execution_count": null,
   "metadata": {},
   "outputs": [],
   "source": [
    "for item in array:\n",
    "    print(item)"
   ]
  },
  {
   "cell_type": "code",
   "execution_count": null,
   "metadata": {},
   "outputs": [],
   "source": [
    "# [3.5, 10.3, 3.2, 7.8, 5.4] 라는 리스트가 있을 때\n",
    "# 리스트에서 최대값, 최소값, 평균, 분산을 출력하시오"
   ]
  },
  {
   "cell_type": "code",
   "execution_count": null,
   "metadata": {},
   "outputs": [],
   "source": [
    "# 주어진 리스트\n",
    "numbers = [3.5, 10.3, 3.2, 7.8, 5.4]\n",
    "\n",
    "# 최대값\n",
    "max = float(\"-Inf\")\n",
    "for number in numbers:\n",
    "    if number > max:\n",
    "        max = number\n",
    "max"
   ]
  },
  {
   "cell_type": "code",
   "execution_count": null,
   "metadata": {},
   "outputs": [],
   "source": [
    "# 최소값\n",
    "min = float(\"InF\")\n",
    "for number in numbers:\n",
    "    if number < min :\n",
    "        min = number\n",
    "\n",
    "min"
   ]
  },
  {
   "cell_type": "code",
   "execution_count": null,
   "metadata": {},
   "outputs": [],
   "source": [
    "# 평균\n",
    "sum = 0\n",
    "for number in numbers:\n",
    "    sum += number\n",
    "avg = round(sum / len(numbers), 2)\n",
    "\n",
    "avg"
   ]
  },
  {
   "cell_type": "code",
   "execution_count": null,
   "metadata": {},
   "outputs": [],
   "source": [
    "# 분산\n",
    "sum = 0\n",
    "for number in numbers :\n",
    "    sum += (number - avg) **2\n",
    "dispersion = round(sum / len(numbers), 2)\n",
    "\n",
    "dispersion"
   ]
  },
  {
   "cell_type": "code",
   "execution_count": null,
   "metadata": {},
   "outputs": [],
   "source": [
    "# 리스트의 개수 구하기\n",
    "# len() 내장함수로 리스트의 길이를 구할 수 있음\n",
    "\n",
    "len(numbers)"
   ]
  },
  {
   "cell_type": "code",
   "execution_count": null,
   "metadata": {},
   "outputs": [],
   "source": [
    "# 리스트 구조로 형병환\n",
    "# 반복가능한 객체에 대하여 리스트 형태로 형 변환할 때 list() 내장 함수를 사용\n",
    "\n",
    "list(range(10)) # 변수로 list가 선언되서 오류남"
   ]
  },
  {
   "cell_type": "code",
   "execution_count": null,
   "metadata": {},
   "outputs": [],
   "source": [
    "# 리스트에 요소 추가하기\n",
    "# 리스트 객체에 append(요소) 메서드를 사용하여 요소를 추가할 수 있음\n",
    "# 리스트 객체에 insert(인덱스, 요소) 메세드를 사용하여 특정 인덱스에 요소를 삽입할 수 있음\n",
    "# 리스트 객체에 extend(리스트) 메세드를 사용하여 매개변수로 전달한 리스트를 확장할 수 있음\n",
    "numbers = list(range(5))\n",
    "numbers"
   ]
  },
  {
   "cell_type": "code",
   "execution_count": null,
   "metadata": {},
   "outputs": [],
   "source": [
    "numbers.append(99)\n",
    "numbers"
   ]
  },
  {
   "cell_type": "code",
   "execution_count": null,
   "metadata": {},
   "outputs": [],
   "source": [
    "numbers.insert(0, -100)\n",
    "numbers"
   ]
  },
  {
   "cell_type": "code",
   "execution_count": null,
   "metadata": {},
   "outputs": [],
   "source": [
    "numbers.extend([123,321])\n",
    "numbers"
   ]
  },
  {
   "cell_type": "code",
   "execution_count": null,
   "metadata": {},
   "outputs": [],
   "source": [
    "# 리스트에서 요소 삭제\n",
    "# del 요소 : 요소를 메모리 상에서 제거\n",
    "# pop() : 마지막 요소를 반환하고 제거\n",
    "# pop(인덱스) : 지정한 인덱스 요소를 반환하고 제거\n",
    "# remove(요소값) : 지정한 요소값을 제거 (첫번째로 만난 요소만 제거)\n",
    "\n",
    "del numbers [0]\n",
    "numbers"
   ]
  },
  {
   "cell_type": "code",
   "execution_count": null,
   "metadata": {},
   "outputs": [],
   "source": [
    "numbers.pop()"
   ]
  },
  {
   "cell_type": "code",
   "execution_count": null,
   "metadata": {},
   "outputs": [],
   "source": [
    "numbers.pop(2)"
   ]
  },
  {
   "cell_type": "code",
   "execution_count": null,
   "metadata": {},
   "outputs": [],
   "source": [
    "numbers"
   ]
  },
  {
   "cell_type": "code",
   "execution_count": null,
   "metadata": {},
   "outputs": [],
   "source": [
    "numbers = [1, 1, 1, 2, 2, 3]\n",
    "numbers"
   ]
  },
  {
   "cell_type": "code",
   "execution_count": null,
   "metadata": {},
   "outputs": [],
   "source": [
    "numbers.remove(2)\n",
    "numbers"
   ]
  },
  {
   "cell_type": "code",
   "execution_count": null,
   "metadata": {},
   "outputs": [],
   "source": [
    "# 리스트 슬라이싱\n",
    "# 리스트 [시작인덱스 : 종료인덱스] : 시작인덱스요소부터 종료인덱스 앞까지 요소를 묶어서 리스트로 반환"
   ]
  },
  {
   "cell_type": "code",
   "execution_count": null,
   "metadata": {},
   "outputs": [],
   "source": [
    "numbers = list(range(20))\n",
    "numbers"
   ]
  },
  {
   "cell_type": "code",
   "execution_count": null,
   "metadata": {},
   "outputs": [],
   "source": [
    "numbers[0:11]"
   ]
  },
  {
   "cell_type": "code",
   "execution_count": null,
   "metadata": {},
   "outputs": [],
   "source": [
    "numbers[:11]"
   ]
  },
  {
   "cell_type": "code",
   "execution_count": null,
   "metadata": {},
   "outputs": [],
   "source": [
    "numbers[7:14]"
   ]
  },
  {
   "cell_type": "code",
   "execution_count": null,
   "metadata": {},
   "outputs": [],
   "source": [
    "numbers[7:20]"
   ]
  },
  {
   "cell_type": "code",
   "execution_count": null,
   "metadata": {},
   "outputs": [],
   "source": [
    "numbers[7:]"
   ]
  },
  {
   "cell_type": "code",
   "execution_count": null,
   "metadata": {},
   "outputs": [],
   "source": [
    "# 1. 리스트에는 숫자 뿐 아니라 문자 등 어떤 값도 넣을 수 있다. 10명으로 이루어진 반의 학생 이름을 생각하여 리스트 변수로 만들어 본다.\n",
    "# 2. 전학생이 왔다고 가정하여 리스트에 이름을 추가한다.\n",
    "# 3. 한 명이 전학을 갔다고 가정하고 리스트에서 이름을 삭제한다.\n",
    "# 4. 슬라이싱으로 5번 학생(1번 학생은 가장 처음에 있는 학생이다.)부터 9번 학생까지 5명의 이름을 담은 새로운 리스트를 만든다."
   ]
  },
  {
   "cell_type": "code",
   "execution_count": null,
   "metadata": {},
   "outputs": [],
   "source": [
    "names = ['미스포츈','진','카이사','이즈리얼','트위치','베인','루시안','자야','트리스타나','아펠리오스']"
   ]
  },
  {
   "cell_type": "code",
   "execution_count": null,
   "metadata": {},
   "outputs": [],
   "source": [
    "names.append('징크스')\n",
    "names"
   ]
  },
  {
   "cell_type": "code",
   "execution_count": null,
   "metadata": {},
   "outputs": [],
   "source": [
    "names.remove('아펠리오스')\n",
    "names"
   ]
  },
  {
   "cell_type": "code",
   "execution_count": null,
   "metadata": {},
   "outputs": [],
   "source": [
    "new_names = names[4:9]\n",
    "new_names"
   ]
  },
  {
   "cell_type": "code",
   "execution_count": null,
   "metadata": {},
   "outputs": [],
   "source": [
    "# 리스트 복수 할당\n",
    "# 변수를 ,로 구분하여 대입 연산자 좌항으로 나열하여 리스트에 있는 요소를 분리해서 대입할 수 있음\n",
    " "
   ]
  },
  {
   "cell_type": "code",
   "execution_count": null,
   "metadata": {},
   "outputs": [],
   "source": [
    "numbers = {1, 2, 3}"
   ]
  },
  {
   "cell_type": "code",
   "execution_count": null,
   "metadata": {},
   "outputs": [],
   "source": [
    "number1, number2, number3 = numbers\n",
    "print(f\"{number1} {number2} {number3}\")"
   ]
  },
  {
   "cell_type": "code",
   "execution_count": null,
   "metadata": {},
   "outputs": [],
   "source": [
    "# 만약 복수 할당할 변수의 개수가 리스트 요소의 개수와 같지 않다면 오류가 발생\n",
    "# number1,number2 = numbers"
   ]
  },
  {
   "cell_type": "code",
   "execution_count": null,
   "metadata": {},
   "outputs": [],
   "source": [
    "# enumerate()\n",
    "# 리스트를 인덱스, 요소 묶음으로 만들어주는 내장 함수"
   ]
  },
  {
   "cell_type": "code",
   "execution_count": null,
   "metadata": {},
   "outputs": [],
   "source": [
    "enumerate(numbers)"
   ]
  },
  {
   "cell_type": "code",
   "execution_count": null,
   "metadata": {},
   "outputs": [],
   "source": [
    "for index, item in enumerate(numbers):\n",
    "    print(f'인덱스 : {index}, 요소 : {item}')"
   ]
  },
  {
   "cell_type": "code",
   "execution_count": null,
   "metadata": {},
   "outputs": [],
   "source": [
    "# zip()\n",
    "# 두 개의 리스트를 동일한 인덱스의 값을 묶어서 새로운 리스트를 생성"
   ]
  },
  {
   "cell_type": "code",
   "execution_count": null,
   "metadata": {},
   "outputs": [],
   "source": [
    "names"
   ]
  },
  {
   "cell_type": "code",
   "execution_count": null,
   "metadata": {},
   "outputs": [],
   "source": [
    "scores = [70,85,60,55,90,100,100,65,75,40]\n",
    "scores"
   ]
  },
  {
   "cell_type": "code",
   "execution_count": null,
   "metadata": {},
   "outputs": [],
   "source": [
    "name_scores = list(zip(names, scores))\n",
    "name_scores"
   ]
  },
  {
   "cell_type": "code",
   "execution_count": null,
   "metadata": {},
   "outputs": [],
   "source": [
    "# 중첩 리스트\n",
    "# 요소로 리스트를 가지고 있는 리스트"
   ]
  },
  {
   "cell_type": "code",
   "execution_count": null,
   "metadata": {},
   "outputs": [],
   "source": [
    "overlappings = [\n",
    "    [1,2,3],\n",
    "    [4,5,6],\n",
    "    [7,8,9]\n",
    "]\n",
    "overlappings"
   ]
  },
  {
   "cell_type": "code",
   "execution_count": null,
   "metadata": {},
   "outputs": [],
   "source": [
    "# 중첩 리스트 인덱스\n",
    "overlappings[0]\n",
    "\n",
    "# 중첩리스트 인덱스 요소 가져오기\n",
    "overlappings[0][1]"
   ]
  },
  {
   "cell_type": "code",
   "execution_count": null,
   "metadata": {},
   "outputs": [],
   "source": [
    "# 새로운 변수로 중첩 리스트 요소 가져오기\n",
    "items = overlappings[0]\n",
    "items"
   ]
  },
  {
   "cell_type": "code",
   "execution_count": null,
   "metadata": {},
   "outputs": [],
   "source": [
    "items[1]"
   ]
  },
  {
   "cell_type": "code",
   "execution_count": null,
   "metadata": {},
   "outputs": [],
   "source": [
    "# 평균 평점을 구하는 함수\n",
    "# 함수의 매개변수로 grades, credits 리스트를 입력받고\n",
    "# 평균 평점을 gpa를 반환하는 함수를 작성하시오.\n",
    "# 단, grades와 credits의 길이가 서로 다르다면 -1를 반환하시오."
   ]
  },
  {
   "cell_type": "code",
   "execution_count": null,
   "metadata": {},
   "outputs": [],
   "source": [
    "# 내 코드\n",
    "grades = [4, 3, 2, 3, 4]\n",
    "credit_hours = [3, 3, 1, 2, 2]\n",
    "\n",
    "# 가중 평균 계산\n",
    "weighted_sum = sum(grade * credit_hour for grade, credit_hour in zip(grades, credit_hours))\n",
    "total_credit_hours = sum(credit_hours)\n",
    "\n",
    "# 평균 평점 계산\n",
    "gpa = weighted_sum / total_credit_hours\n",
    "\n",
    "print(\"평균 평점(GPA):\", round(gpa))"
   ]
  },
  {
   "cell_type": "code",
   "execution_count": null,
   "metadata": {},
   "outputs": [],
   "source": [
    "# 강사님 코드\n",
    "def getGpa(grades, credits):\n",
    "\n",
    "    if len(grades) != len(credits):\n",
    "        return -1\n",
    "    \n",
    "    credits_sum = 0  # 이수 학점의 총합\n",
    "    weight_sum = 0  # 가중치 총합\n",
    "    # for index in range(len(grades)):\n",
    "    #     credits_sum += credits[index]\n",
    "    #     weight_sum += credits[index] * grades[index]\n",
    "\n",
    "    # [ (4, 3), (3, 3), (2, 1), (3, 2), (4, 2) ]\n",
    "    for grade, credit in zip(grades, credits):\n",
    "        credits_sum += credit\n",
    "        weight_sum += credit * grade\n",
    "    \n",
    "    # 평균평점 = (가중치 총합) / (이수 학점의 총합)\n",
    "    gpa = round(weight_sum / credits_sum, 2)\n",
    "    return gpa"
   ]
  },
  {
   "cell_type": "code",
   "execution_count": null,
   "metadata": {},
   "outputs": [],
   "source": [
    "grades = [4, 3, 2, 3, 4]\n",
    "credits = [3, 3, 1, 2, 2]\n",
    "getGpa(grades, credits)"
   ]
  },
  {
   "cell_type": "code",
   "execution_count": null,
   "metadata": {},
   "outputs": [],
   "source": [
    "# x = [[\"길동\", 90],[\"철수\", 80],[\"영수\", 70],[\"방자\", 60]]\n",
    "# 복수할당과 zip 함수를 사용하여 이름만 존재하는 x_names 리스트 변수를 생성하시오."
   ]
  },
  {
   "cell_type": "code",
   "execution_count": null,
   "metadata": {},
   "outputs": [],
   "source": [
    "x = [[\"길동\", 90],[\"철수\", 80],[\"영수\", 70],[\"방자\", 60]]\n",
    "x\n",
    "r_x = list(zip(*x)) # 리스트 쌍으로 바꾸기\n",
    "r_x\n",
    "\n",
    "x_names,x_scores = r_x # 리스트 복수할당\n",
    "x_names = list(x_names) # 리스트 형변환\n",
    "x_names"
   ]
  },
  {
   "cell_type": "code",
   "execution_count": null,
   "metadata": {},
   "outputs": [],
   "source": [
    "# 딕셔너리\n",
    "# key, value를 하나의 쌍으로 관리하는 자료형\n",
    "# 순서가 존재하지 않고 key는 중복을 허용하지 않으며, value는 중복될 수 있음\n",
    "# 딕셔너리변수 = {key1 : value1, key2 : value2, ...}\n",
    "# key는 어떠한 자료형이든 가능"
   ]
  },
  {
   "cell_type": "code",
   "execution_count": null,
   "metadata": {},
   "outputs": [],
   "source": [
    "eng_dictionary = {\n",
    "    'apple' : '사과',\n",
    "    'banana':'바나나',\n",
    "    'carrot':'당근'\n",
    "}\n",
    "\n",
    "eng_dictionary"
   ]
  },
  {
   "cell_type": "code",
   "execution_count": null,
   "metadata": {},
   "outputs": [],
   "source": [
    "# 딕셔너리의 특정 요소에 접근할 때는 딕셔너리변수[키]로 값을 가져올 수 있음 (접근 가능)\n",
    "eng_dictionary['apple']\n",
    "\n",
    "# 인덱스로 접근시 오류\n",
    "# eng_dictionary[0]"
   ]
  },
  {
   "cell_type": "code",
   "execution_count": null,
   "metadata": {},
   "outputs": [],
   "source": [
    "# 딕셔너리 자료 쌍의 개수\n",
    "# len(딕셔너리 변수)를 사용하여 자료 쌍의 개수를 구할 수 있음\n",
    "\n",
    "len(eng_dictionary)"
   ]
  },
  {
   "cell_type": "code",
   "execution_count": null,
   "metadata": {},
   "outputs": [],
   "source": [
    "# 딕셔너리 value 변경\n",
    "# 딕셔너리[키] = 변경할 값\n",
    "\n",
    "eng_dictionary['banana'] = '버네너'\n",
    "eng_dictionary"
   ]
  },
  {
   "cell_type": "code",
   "execution_count": null,
   "metadata": {},
   "outputs": [],
   "source": [
    "# 딕셔너리 요소 추가\n",
    "# 딕셔너리[추가할 키] = 추가할 값\n",
    "\n",
    "eng_dictionary['delete'] = '삭제'\n",
    "eng_dictionary"
   ]
  },
  {
   "cell_type": "code",
   "execution_count": null,
   "metadata": {},
   "outputs": [],
   "source": [
    "# 딕셔너리의 update 메서드\n",
    "# 추가, 수정 작업을 딕셔너리로 지정하여 작업하는 것\n",
    "\n",
    "eng2_dictionary = {\n",
    "    'banana':'바나나',\n",
    "    'electricity':'전기'\n",
    "}\n",
    "\n",
    "eng_dictionary.update(eng2_dictionary)\n",
    "eng_dictionary"
   ]
  },
  {
   "cell_type": "code",
   "execution_count": null,
   "metadata": {},
   "outputs": [],
   "source": [
    "# 딕셔너리 요소 삭제\n",
    "# del 명령어를 사용하여 제거\n",
    "# pop() 메서드를 활용하여 추출\n",
    "del eng_dictionary['electricity']\n",
    "eng_dictionary"
   ]
  },
  {
   "cell_type": "code",
   "execution_count": null,
   "metadata": {},
   "outputs": [],
   "source": [
    "eng_dictionary.pop('delete')\n",
    "eng_dictionary"
   ]
  },
  {
   "cell_type": "code",
   "execution_count": null,
   "metadata": {},
   "outputs": [],
   "source": [
    "# 반복가능 객체에 요소 존재여부 확인\n",
    "# in 연산자를 통해서 특정 요소가 해당 객체에 존재하는지 여부 확인 가능\n",
    "# True/ False 형태\n",
    "numbers\n",
    "1 in numbers\n",
    "\n",
    "eng_dictionary\n",
    "'carrot' in eng_dictionary"
   ]
  },
  {
   "cell_type": "code",
   "execution_count": null,
   "metadata": {},
   "outputs": [],
   "source": [
    "# 딕셔너리를 반복문에서 사용\n",
    "# 키만 사용 : for key in 딕셔너리.keys():\n",
    "# 값만 사용 : for value in 딕셔너리.values():\n",
    "# 키와 값을 모두 사용 : for key, value in 딕셔너리.items():\n",
    "\n",
    "# keys(): 딕셔너리의 key 값들을 튜플로 반환\n",
    "# values() : 딕셔너리의 value 값들을 튜플로 반환\n",
    "# items() : 딕셔너리의 key, value 쌍들을 튜플로 반환"
   ]
  },
  {
   "cell_type": "code",
   "execution_count": null,
   "metadata": {},
   "outputs": [],
   "source": [
    "for key in eng_dictionary.keys():\n",
    "    print(key)"
   ]
  },
  {
   "cell_type": "code",
   "execution_count": null,
   "metadata": {},
   "outputs": [],
   "source": [
    "for value in eng_dictionary.values():\n",
    "    print(value)"
   ]
  },
  {
   "cell_type": "code",
   "execution_count": 64,
   "metadata": {},
   "outputs": [
    {
     "name": "stdout",
     "output_type": "stream",
     "text": [
      "key : apple, value : 사과\n",
      "key : banana, value : 바나나\n",
      "key : carrot, value : 당근\n"
     ]
    }
   ],
   "source": [
    "for key,value in eng_dictionary.items():\n",
    "    print(f'key : {key}, value : {value}')"
   ]
  },
  {
   "cell_type": "code",
   "execution_count": 66,
   "metadata": {},
   "outputs": [
    {
     "data": {
      "text/plain": [
       "{'철수': 98, '영희': 80, '순이': 100, '돌이': 70}"
      ]
     },
     "execution_count": 66,
     "metadata": {},
     "output_type": "execute_result"
    }
   ],
   "source": [
    "data = {\n",
    "    \"철수\": 98,\n",
    "    \"영희\": 80,\n",
    "    \"순이\": 100,\n",
    "    \"돌이\": 70,\n",
    "}\n",
    "data"
   ]
  },
  {
   "cell_type": "code",
   "execution_count": 74,
   "metadata": {},
   "outputs": [
    {
     "name": "stdout",
     "output_type": "stream",
     "text": [
      "철수\t\t98\n",
      "영희\t\t80\n",
      "순이\t\t100\n",
      "돌이\t\t70\n",
      "===========\n",
      "평균\t\t87\n"
     ]
    }
   ],
   "source": [
    "sum = 0\n",
    "for key, value in data.items():\n",
    "    print(f'{key}\\t\\t{value}')\n",
    "\n",
    "    sum += value\n",
    "avg = round(sum/len(data))\n",
    "print('===========')\n",
    "print(f'평균\\t\\t{avg}')"
   ]
  }
 ],
 "metadata": {
  "kernelspec": {
   "display_name": "Python 3",
   "language": "python",
   "name": "python3"
  },
  "language_info": {
   "codemirror_mode": {
    "name": "ipython",
    "version": 3
   },
   "file_extension": ".py",
   "mimetype": "text/x-python",
   "name": "python",
   "nbconvert_exporter": "python",
   "pygments_lexer": "ipython3",
   "version": "3.12.2"
  }
 },
 "nbformat": 4,
 "nbformat_minor": 2
}
