{
 "cells": [
  {
   "cell_type": "code",
   "execution_count": null,
   "metadata": {},
   "outputs": [],
   "source": [
    "# 반복문\n",
    "# for 반복문 : 반복할 횟수가 정해져 있는 반복 작업에서 사용\n",
    "# for 변수 in range(반복횟수) :\n",
    "#   반복할 실행문"
   ]
  },
  {
   "cell_type": "code",
   "execution_count": 7,
   "metadata": {},
   "outputs": [
    {
     "name": "stdout",
     "output_type": "stream",
     "text": [
      "0\n",
      "1\n",
      "2\n",
      "3\n",
      "4\n",
      "5\n",
      "6\n",
      "7\n",
      "8\n",
      "9\n",
      "5\n",
      "8\n",
      "10\n",
      "9\n",
      "8\n",
      "7\n",
      "6\n",
      "5\n",
      "4\n",
      "3\n",
      "2\n",
      "1\n",
      "0\n"
     ]
    }
   ],
   "source": [
    "# for(int index = 0; index < 5; index++) - X\n",
    "\n",
    "# int[] array = {0, 1, 2 ,3, 4};\n",
    "# for (int index : array) {} - 0\n",
    "\n",
    "# range(정수) : 0부터 정수-1 까지의 정수 리스트 생성\n",
    "for index in range(5) :\n",
    "    print(index)\n",
    "\n",
    "# range(시작 정수, 종료 정수) : 시작 정수로부터 종류 정수까지의 정수 리스트 생성\n",
    "for index in range(5,10) :\n",
    "    print(index)\n",
    "\n",
    "# range(시작 정수, 종료 정수, 차이) : 시작 정수부터 종류 정수-1까지의 정수 리스트를 생성하는데 \n",
    "# 차이 정수 만큼의 차이를 가지며 변경됨\n",
    "for index in range (5, 10 ,3) :\n",
    "    print(index)\n",
    "\n",
    "for index in range (10, -1, -1) :\n",
    "    print(index)"
   ]
  },
  {
   "cell_type": "code",
   "execution_count": 12,
   "metadata": {},
   "outputs": [
    {
     "name": "stdout",
     "output_type": "stream",
     "text": [
      "*\n",
      "**\n",
      "***\n",
      "****\n",
      "*****\n",
      "******\n",
      "*******\n",
      "********\n",
      "*********\n",
      "**********\n"
     ]
    }
   ],
   "source": [
    "# 내 코드\n",
    "n=10\n",
    "for index in range (0, n) :\n",
    "    if index <= n:\n",
    "        print ('*' * (index + 1))"
   ]
  },
  {
   "cell_type": "code",
   "execution_count": 19,
   "metadata": {},
   "outputs": [
    {
     "name": "stdout",
     "output_type": "stream",
     "text": [
      "*\n",
      "**\n",
      "***\n",
      "****\n",
      "*****\n",
      "******\n",
      "*******\n",
      "********\n",
      "*********\n",
      "**********\n"
     ]
    }
   ],
   "source": [
    "# 강사님 코드\n",
    "for count in range (1,11):\n",
    "    print('*' * count)"
   ]
  },
  {
   "cell_type": "code",
   "execution_count": 18,
   "metadata": {},
   "outputs": [
    {
     "name": "stdout",
     "output_type": "stream",
     "text": [
      "**********\n",
      "*********\n",
      "********\n",
      "*******\n",
      "******\n",
      "*****\n",
      "****\n",
      "***\n",
      "**\n",
      "*\n"
     ]
    }
   ],
   "source": [
    "# 내 코드\n",
    "n = 10\n",
    "for index in range (0, n) :\n",
    "    if index <= n:\n",
    "        print('*' * (n -index))"
   ]
  },
  {
   "cell_type": "code",
   "execution_count": 20,
   "metadata": {},
   "outputs": [
    {
     "name": "stdout",
     "output_type": "stream",
     "text": [
      "**********\n",
      "*********\n",
      "********\n",
      "*******\n",
      "******\n",
      "*****\n",
      "****\n",
      "***\n",
      "**\n",
      "*\n"
     ]
    }
   ],
   "source": [
    "# 강사님 코드\n",
    "for count in range(10, 0, -1) :\n",
    "    print('*' * count)"
   ]
  },
  {
   "cell_type": "code",
   "execution_count": 27,
   "metadata": {},
   "outputs": [
    {
     "name": "stdout",
     "output_type": "stream",
     "text": [
      "\n",
      "*\n",
      "**\n",
      "***\n",
      "****\n",
      "*****\n",
      "******\n",
      "*******\n",
      "********\n",
      "*********\n",
      "**********\n",
      "*********\n",
      "********\n",
      "*******\n",
      "******\n",
      "*****\n",
      "****\n",
      "***\n",
      "**\n",
      "*\n"
     ]
    }
   ],
   "source": [
    "n = 10\n",
    "for count in range (0, n*2) :\n",
    "    if count <= n :\n",
    "        print('*' * count)\n",
    "    else:\n",
    "        print('*' * (n*2 - count))"
   ]
  },
  {
   "cell_type": "code",
   "execution_count": 30,
   "metadata": {},
   "outputs": [
    {
     "name": "stdout",
     "output_type": "stream",
     "text": [
      "*\n",
      "**\n",
      "***\n",
      "****\n",
      "*****\n",
      "******\n",
      "*******\n",
      "********\n",
      "*********\n",
      "**********\n",
      "*********\n",
      "********\n",
      "*******\n",
      "******\n",
      "*****\n",
      "****\n",
      "***\n",
      "**\n",
      "*\n"
     ]
    }
   ],
   "source": [
    "for count in range(1, 20):\n",
    "    if count <= 10:\n",
    "        print('*' * count)\n",
    "    else:\n",
    "        print('*' * (20 - count))"
   ]
  },
  {
   "cell_type": "code",
   "execution_count": 43,
   "metadata": {},
   "outputs": [
    {
     "name": "stdout",
     "output_type": "stream",
     "text": [
      "     *\n",
      "    ***\n",
      "   *****\n",
      "  *******\n",
      " *********\n",
      "***********\n",
      " *********\n",
      "  *******\n",
      "   *****\n",
      "    ***\n",
      "     *\n"
     ]
    }
   ],
   "source": [
    "for count in range (1, 12):\n",
    "    if count <= 6:\n",
    "        print(' ' * (6-count) + '*' * (count*2 - 1))\n",
    "    else:\n",
    "        print(' ' * (count -6) + '*' * ((12- count) * 2 -1))"
   ]
  },
  {
   "cell_type": "code",
   "execution_count": 44,
   "metadata": {},
   "outputs": [
    {
     "name": "stdout",
     "output_type": "stream",
     "text": [
      "     *     \n",
      "    ***    \n",
      "   *****   \n",
      "  *******  \n",
      " ********* \n",
      "***********\n",
      " ********* \n",
      "  *******  \n",
      "   *****   \n",
      "    ***    \n",
      "     *     \n"
     ]
    }
   ],
   "source": [
    "for count in range (1, 12):\n",
    "    star = \"*\"\n",
    "    if count <= 6:\n",
    "        star = '*' * (count*2 - 1)\n",
    "    else:\n",
    "        star = '*' * ((12- count) * 2 -1)\n",
    "    print(f'{star:^11}')"
   ]
  },
  {
   "cell_type": "code",
   "execution_count": null,
   "metadata": {},
   "outputs": [],
   "source": [
    "# 중첩 for 반복문\n",
    "\n",
    "# 0 1 2 3\n",
    "# 1 2 3 4\n",
    "# 2 3 4 5\n",
    "# 3 4 5 6"
   ]
  },
  {
   "cell_type": "code",
   "execution_count": null,
   "metadata": {},
   "outputs": [],
   "source": [
    "for a in range (4):\n",
    "    for b in range (4) :\n",
    "        print(a + b, end= \" \")\n",
    "    print(\"\")"
   ]
  },
  {
   "cell_type": "code",
   "execution_count": null,
   "metadata": {},
   "outputs": [],
   "source": [
    "for start in range (4):\n",
    "    for value in range(start, start+4):\n",
    "        print (value, end= \" \") # end=\" \"를 사용하여 줄 바꿈 없이 공백으로 값을 구분합니다.\n",
    "    print(\"\")"
   ]
  },
  {
   "cell_type": "code",
   "execution_count": null,
   "metadata": {},
   "outputs": [],
   "source": [
    "# 주사위 경우의 수 구하기\n",
    "\n",
    "for a in range (1,7):\n",
    "    for b in range (1,7):\n",
    "        print(f'{a}, {b}')"
   ]
  },
  {
   "cell_type": "code",
   "execution_count": null,
   "metadata": {},
   "outputs": [],
   "source": [
    "for a in range (1,7):\n",
    "    for b in range (1,7):\n",
    "        if (a + b) % 4 == 0:\n",
    "            print(f'{a}, {b}')"
   ]
  }
 ],
 "metadata": {
  "kernelspec": {
   "display_name": "Python 3",
   "language": "python",
   "name": "python3"
  },
  "language_info": {
   "codemirror_mode": {
    "name": "ipython",
    "version": 3
   },
   "file_extension": ".py",
   "mimetype": "text/x-python",
   "name": "python",
   "nbconvert_exporter": "python",
   "pygments_lexer": "ipython3",
   "version": "3.12.2"
  }
 },
 "nbformat": 4,
 "nbformat_minor": 2
}
