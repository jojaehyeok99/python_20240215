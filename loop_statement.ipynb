{
 "cells": [
  {
   "cell_type": "code",
   "execution_count": null,
   "metadata": {},
   "outputs": [],
   "source": [
    "# 반복문\n",
    "# for 반복문 : 반복할 횟수가 정해져 있는 반복 작업에서 사용\n",
    "# for 변수 in range(반복횟수) :\n",
    "#   반복할 실행문"
   ]
  },
  {
   "cell_type": "code",
   "execution_count": 6,
   "metadata": {},
   "outputs": [
    {
     "name": "stdout",
     "output_type": "stream",
     "text": [
      "0\n",
      "1\n",
      "2\n",
      "3\n",
      "4\n",
      "5\n",
      "6\n",
      "7\n",
      "8\n",
      "9\n",
      "5\n",
      "8\n",
      "10\n",
      "9\n",
      "8\n",
      "7\n",
      "6\n",
      "5\n",
      "4\n",
      "3\n",
      "2\n",
      "1\n",
      "0\n"
     ]
    }
   ],
   "source": [
    "# for(int index = 0; index < 5; index++) - X\n",
    "\n",
    "# int[] array = {0, 1, 2 ,3, 4};\n",
    "# for (int index : array) {} - 0\n",
    "\n",
    "# range(정수) : 0부터 정수-1 까지의 정수 리스트 생성\n",
    "for index in range(5) :\n",
    "    print(index)\n",
    "\n",
    "# range(시작 정수, 종료 정수) : 시작 정수로부터 종류 정수까지의 정수 리스트 생성\n",
    "for index in range(5,10) :\n",
    "    print(index)\n",
    "\n",
    "# range(시작 정수, 종료 정수, 차이) : 시작 정수부터 종류 정수-1까지의 정수 리스트를 생성하는데 \n",
    "# 차이 정수 만큼의 차이를 가지며 변경됨\n",
    "for index in range (5, 10 ,3) :\n",
    "    print(index)\n",
    "\n",
    "for index in range (10, -1, -1) :\n",
    "    print(index)"
   ]
  }
 ],
 "metadata": {
  "kernelspec": {
   "display_name": "Python 3",
   "language": "python",
   "name": "python3"
  },
  "language_info": {
   "codemirror_mode": {
    "name": "ipython",
    "version": 3
   },
   "file_extension": ".py",
   "mimetype": "text/x-python",
   "name": "python",
   "nbconvert_exporter": "python",
   "pygments_lexer": "ipython3",
   "version": "3.12.2"
  }
 },
 "nbformat": 4,
 "nbformat_minor": 2
}
