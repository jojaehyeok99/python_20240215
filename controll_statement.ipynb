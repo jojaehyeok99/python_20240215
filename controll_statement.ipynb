{
 "cells": [
  {
   "cell_type": "code",
   "execution_count": null,
   "metadata": {},
   "outputs": [],
   "source": [
    "# 조건문\n",
    "# if 조건문\n",
    "# if 조건:\n",
    "#    실행문"
   ]
  },
  {
   "cell_type": "code",
   "execution_count": 8,
   "metadata": {},
   "outputs": [
    {
     "name": "stdout",
     "output_type": "stream",
     "text": [
      "짝수\n",
      "짝수\n"
     ]
    }
   ],
   "source": [
    "number = 123456\n",
    "# : 이후에 새로운 코드 블럭이 생기면 라인 첫 공백을 모두 같게 해야한다.\n",
    "if number % 2 == 0:\n",
    "    print('짝수')\n",
    "    print('짝수') "
   ]
  },
  {
   "cell_type": "code",
   "execution_count": null,
   "metadata": {},
   "outputs": [],
   "source": [
    "# else 조건문\n",
    "# if 조건:\n",
    "#   실행문\n",
    "# else:\n",
    "#   실행문"
   ]
  },
  {
   "cell_type": "code",
   "execution_count": 6,
   "metadata": {},
   "outputs": [
    {
     "name": "stdout",
     "output_type": "stream",
     "text": [
      "홀수\n"
     ]
    }
   ],
   "source": [
    "number = 12345\n",
    "if number % 2 == 0:\n",
    "    print('짝수')\n",
    "else:\n",
    "    print('홀수')"
   ]
  },
  {
   "cell_type": "code",
   "execution_count": 62,
   "metadata": {},
   "outputs": [
    {
     "name": "stdout",
     "output_type": "stream",
     "text": [
      "윤년이 아닙니다\n"
     ]
    }
   ],
   "source": [
    "# 윤년\n",
    "# 4202년이 윤년인지 아닌지 판별하는 조건문을 작성하시오.\n",
    "number = 2003\n",
    "if (number % 400 == 0) or (number % 100 != 0 and number % 4 == 0):\n",
    "    print('윤년입니다')\n",
    "else:\n",
    "    print('윤년이 아닙니다')"
   ]
  },
  {
   "cell_type": "code",
   "execution_count": 64,
   "metadata": {},
   "outputs": [
    {
     "name": "stdout",
     "output_type": "stream",
     "text": [
      "3\n",
      "15\n"
     ]
    }
   ],
   "source": [
    "# 비트 연산\n",
    "# 11 = 1011\n",
    "# 7 =  0111\n",
    "# & 결과 값 : 0011 = 3\n",
    "# | 결과 값 : 1111 = 15\n",
    "print(11 & 7)\n",
    "print(11 | 7)"
   ]
  },
  {
   "cell_type": "code",
   "execution_count": null,
   "metadata": {},
   "outputs": [],
   "source": [
    "#elif (else if) : 상위의 조건이 false이면서 elif의 조건이 true이면 실행\n",
    "# elif 조건:\n",
    "#   실행문"
   ]
  },
  {
   "cell_type": "code",
   "execution_count": 65,
   "metadata": {},
   "outputs": [
    {
     "name": "stdout",
     "output_type": "stream",
     "text": [
      "C\n"
     ]
    }
   ],
   "source": [
    "score = 80\n",
    "if score > 90:\n",
    "    print('A')\n",
    "elif score> 80:\n",
    "    print('B')\n",
    "elif score> 70:\n",
    "    print('C')\n",
    "elif score> 60:\n",
    "    print('D')\n",
    "else:\n",
    "    print('F') "
   ]
  },
  {
   "cell_type": "code",
   "execution_count": null,
   "metadata": {},
   "outputs": [],
   "source": [
    "# 수박등급 구하기\n",
    "# 어떤 농장에서는 수박이 10kg이 넘으면 1등급, 그렇지 않고 7kg이 넘으면 2등급, \n",
    "# 그렇지 않고 4kg이 넘으면 3등급, 나머지는 4등급을 준다고 한다. 이 수박의 등급을 정하는 파이썬 코드를 작성한다."
   ]
  },
  {
   "cell_type": "code",
   "execution_count": 66,
   "metadata": {},
   "outputs": [
    {
     "name": "stdout",
     "output_type": "stream",
     "text": [
      "3등급\n"
     ]
    }
   ],
   "source": [
    "warter_melon =6\n",
    "\n",
    "if warter_melon > 10:\n",
    "    print('1등급')\n",
    "elif warter_melon > 7:\n",
    "    print('2등급')\n",
    "elif warter_melon > 4:\n",
    "    print('3등급')\n",
    "else:\n",
    "    print('4등급')"
   ]
  },
  {
   "cell_type": "code",
   "execution_count": null,
   "metadata": {},
   "outputs": [],
   "source": [
    "# 중첩 if\n",
    "# if문 안에 if문 (들여쓰기 주의)\n",
    "# if 조건1:\n",
    "#    조건1이 참일 때 실행되는 명령\n",
    "#    if 조건2:\n",
    "#        조건1과 조건2가 모두 참일 때 실행되는 명령\n",
    "#    else:\n",
    "#        조건1은 참이고 조건2는 거짓일 때 실행되는 명령\n",
    "# else:\n",
    "#    조건1이 거짓일 때 실행되는 명령"
   ]
  },
  {
   "cell_type": "code",
   "execution_count": null,
   "metadata": {},
   "outputs": [],
   "source": [
    "#예를 들어 중학교에서 팔굽혀펴기 시험을 보는데 남자는 10번 이상을 해야 합격(Pass)이고 아니면 불합격(Fail)이다. \n",
    "# 여자는 5번 이상을 해야 합격이라면 다음과 같이 프로그램을 만들 수 있다."
   ]
  },
  {
   "cell_type": "code",
   "execution_count": 71,
   "metadata": {},
   "outputs": [
    {
     "name": "stdout",
     "output_type": "stream",
     "text": [
      "불합격\n"
     ]
    }
   ],
   "source": [
    "gender = '남자'\n",
    "count = 7\n",
    "if gender == '남자':\n",
    "    #남자일때\n",
    "    if count >= 10:\n",
    "        print('합격')\n",
    "    else:\n",
    "        print('불합격')\n",
    "else:\n",
    "    #여자일때\n",
    "    if count >= 5:\n",
    "        print('합격')\n",
    "    else:\n",
    "        print('불합격')"
   ]
  },
  {
   "cell_type": "code",
   "execution_count": 75,
   "metadata": {},
   "outputs": [
    {
     "name": "stdout",
     "output_type": "stream",
     "text": [
      "합격\n"
     ]
    }
   ],
   "source": [
    "gender = '여자'\n",
    "count = 6\n",
    "if (gender == '남자' and count >= 10) or (gender == \"여자\" and count >=5):\n",
    "    print(\"합격\")\n",
    "else:\n",
    "    print(\"불합격\")"
   ]
  },
  {
   "cell_type": "code",
   "execution_count": null,
   "metadata": {},
   "outputs": [],
   "source": [
    "#죄수의 딜레마는 게임 이론의 유명한 사례이다\n",
    "# 두 명의 범죄자 A, B가 체포되어 서로 다른 취조실에서 격리되어 심문을 받고 있다. 이들에게 자백 여부에 따라 다음의 선택이 가능하다.\n",
    "# - 둘 중 하나가 배신하여 죄를 자백하면 자백한 사람은 즉시 풀어주고 나머지 한 명이 10년을 복역해야 한다.\n",
    "# - 둘 모두 서로를 배신하여 죄를 자백하면 둘 다 5년을 복역한다.\n",
    "# - 둘 모두 죄를 자백하지 않으면 둘 다 1년을 복역한다.\n",
    "# 죄수를 나타내는 변수 `XA`, `XB`는 자백하면 `True`, 그렇지 않으면 `False`를 가지는 값이다. \n",
    "# 이때 변수 `XA`, `XB` 값에 따라 각각이 복역해야 하는 연 수를 변수 `YA`, `YB`라고 할 때 `YA`, `YB`를 계산하는 프로그램을 만든다."
   ]
  },
  {
   "cell_type": "code",
   "execution_count": 28,
   "metadata": {},
   "outputs": [
    {
     "name": "stdout",
     "output_type": "stream",
     "text": [
      "범죄자 A의 복역 연 수: 10\n",
      "범죄자 B의 복역 연 수: 0\n"
     ]
    }
   ],
   "source": [
    "# 범죄자 A와 B의 자백 여부 입력 받기\n",
    "XA_input = input(\"범죄자 A가 자백하였습니까? (True/False): \")\n",
    "XB_input = input(\"범죄자 B가 자백하였습니까? (True/False): \")\n",
    "\n",
    "XA = XA_input == \"True\" \n",
    "XB = XB_input == \"True\"\n",
    "\n",
    "# 복역 연 수 계산\n",
    "if XA :\n",
    "    if XB:\n",
    "        YA = YB = 5\n",
    "    else:\n",
    "        YA = 0\n",
    "        YB = 10\n",
    "else:\n",
    "    if XB :\n",
    "        YA = 10\n",
    "        YB = 0\n",
    "    else:\n",
    "        YA = YB = 1\n",
    "\n",
    "# 결과 출력\n",
    "print(\"범죄자 A의 복역 연 수:\", YA)\n",
    "print(\"범죄자 B의 복역 연 수:\", YB)"
   ]
  },
  {
   "cell_type": "code",
   "execution_count": null,
   "metadata": {},
   "outputs": [],
   "source": [
    "year = int(input('연도를 입력하세요 :'))\n",
    "if year % 400 == 0:\n",
    "    print('윤년입니다.')\n",
    "else:\n",
    "    if year % 4 == 0:\n",
    "        if year % 100 !=0:\n",
    "            print('윤년입니다.')\n",
    "        else :\n",
    "            print('윤년이 아닙니다.')\n",
    "    else:\n",
    "        print('윤년이 아닙니다.')"
   ]
  }
 ],
 "metadata": {
  "kernelspec": {
   "display_name": "Python 3",
   "language": "python",
   "name": "python3"
  },
  "language_info": {
   "codemirror_mode": {
    "name": "ipython",
    "version": 3
   },
   "file_extension": ".py",
   "mimetype": "text/x-python",
   "name": "python",
   "nbconvert_exporter": "python",
   "pygments_lexer": "ipython3",
   "version": "3.12.2"
  }
 },
 "nbformat": 4,
 "nbformat_minor": 2
}
