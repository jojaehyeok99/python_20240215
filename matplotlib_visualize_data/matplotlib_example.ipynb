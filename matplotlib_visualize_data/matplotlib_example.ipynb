{
 "cells": [
  {
   "cell_type": "code",
   "execution_count": 3,
   "metadata": {},
   "outputs": [],
   "source": [
    "import pandas as pd\n",
    "import numpy as np\n",
    "import matplotlib as mpl\n",
    "import matplotlib.pyplot as plt\n",
    "import matplotlib.pylab as plb\n",
    "import matplotlib.tri as mtri\n",
    "import seaborn"
   ]
  },
  {
   "cell_type": "code",
   "execution_count": 2,
   "metadata": {},
   "outputs": [],
   "source": [
    "# matplotlib 한글 표시 설정\n",
    "import matplotlib.font_manager as fm\n",
    "\n",
    "# matplotlib의 글꼴 관리자에 특정 글꼴 추가\n",
    "fe = fm.FontEntry(\n",
    "    fname=r'font/NanumGothic.ttf', # ttf 파일이 저장되어 있는 경로\n",
    "    name='NanumGothic')                       \n",
    "fm.fontManager.ttflist.insert(0, fe) # Matplotlib에 폰트 추가\n",
    "\n",
    "# pyplot에 matplotlib의 글꼴 관리자에 등록된 글꼴 적용\n",
    "plt.rcParams.update({'font.family': 'NanumGothic', 'font.size': 14})\n",
    "# pyplot에서 '-(마이너스)'를 문자로 취급하도록 설정\n",
    "plt.rcParams['axes.unicode_minus'] = False "
   ]
  },
  {
   "cell_type": "code",
   "execution_count": 4,
   "metadata": {},
   "outputs": [],
   "source": [
    "iris = seaborn.load_dataset(\"iris\")          # 붓꽃 데이터\n",
    "titanic = seaborn.load_dataset(\"titanic\")    # 타이타닉호 데이터\n",
    "tips = seaborn.load_dataset(\"tips\")          # 팁 데이터\n",
    "flights = seaborn.load_dataset(\"flights\")    # 여객운송 데이터"
   ]
  }
 ],
 "metadata": {
  "kernelspec": {
   "display_name": "Python 3",
   "language": "python",
   "name": "python3"
  },
  "language_info": {
   "codemirror_mode": {
    "name": "ipython",
    "version": 3
   },
   "file_extension": ".py",
   "mimetype": "text/x-python",
   "name": "python",
   "nbconvert_exporter": "python",
   "pygments_lexer": "ipython3",
   "version": "3.12.2"
  }
 },
 "nbformat": 4,
 "nbformat_minor": 2
}
