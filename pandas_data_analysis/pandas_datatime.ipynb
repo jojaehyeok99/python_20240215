{
 "cells": [
  {
   "cell_type": "code",
   "execution_count": 1,
   "metadata": {},
   "outputs": [],
   "source": [
    "import pandas as pd\n",
    "import numpy as np\n",
    "import seaborn"
   ]
  },
  {
   "cell_type": "markdown",
   "metadata": {},
   "source": [
    "### `Datetime` 인덱스\n",
    "시계열 객체인 `Series`는 시계열 데이터를 관리하는 객체이기 때문에 데이터가 시간에 의해 관리되어져야 함  \n",
    "\n",
    "지금까지는 단순한 인덱스로 사용하였는데 이를 시계열로 표현하기 위해서 `DatetimeIndex`를 사용해야 함\n",
    "\n",
    "`DatetimeIndex`는 시계열 인덱스를 사용하기 위한 인덱스이며 `pandas.to_datetime`, `pandas.date_range` 메서드를 사용하여 생성할 수 있음"
   ]
  },
  {
   "cell_type": "markdown",
   "metadata": {},
   "source": [
    "`to_datetime()` 메서드는 날짜 및 시간을 나타내는 문자여을 Datetime 자료형으로 변경한 후 `DatetimeIndex`를 생성함"
   ]
  },
  {
   "cell_type": "code",
   "execution_count": 2,
   "metadata": {},
   "outputs": [
    {
     "data": {
      "text/plain": [
       "DatetimeIndex(['2018-01-01', '2018-01-04', '2018-01-05', '2018-01-06'], dtype='datetime64[ns]', freq=None)"
      ]
     },
     "execution_count": 2,
     "metadata": {},
     "output_type": "execute_result"
    }
   ],
   "source": [
    "date_str = ['2018, 1, 1', '2018, 1, 4', '2018, 1, 5', '2018, 1, 6']\n",
    "idx = pd.to_datetime(date_str)\n",
    "idx"
   ]
  },
  {
   "cell_type": "code",
   "execution_count": 3,
   "metadata": {},
   "outputs": [
    {
     "data": {
      "text/plain": [
       "DatetimeIndex(['2018-01-01', '2018-01-04', '2018-01-05', '2018-01-06'], dtype='datetime64[ns]', freq=None)"
      ]
     },
     "execution_count": 3,
     "metadata": {},
     "output_type": "execute_result"
    }
   ],
   "source": [
    "date_str = ['2018/1/1', '2018/1/4', '2018/1/5', '2018/1/6']\n",
    "idx = pd.to_datetime(date_str)\n",
    "idx"
   ]
  },
  {
   "cell_type": "code",
   "execution_count": 9,
   "metadata": {},
   "outputs": [
    {
     "data": {
      "text/plain": [
       "DatetimeIndex(['2018-01-01', '2018-01-04', '2018-01-05', '2018-01-06'], dtype='datetime64[ns]', freq=None)"
      ]
     },
     "execution_count": 9,
     "metadata": {},
     "output_type": "execute_result"
    }
   ],
   "source": [
    "date_str = ['2018.1.1', '2018.1.4', '2018.1.5', '2018.1.6']\n",
    "idx = pd.to_datetime(date_str)\n",
    "idx"
   ]
  },
  {
   "cell_type": "code",
   "execution_count": null,
   "metadata": {},
   "outputs": [],
   "source": [
    "# 문자 오류\n",
    "date_str = ['2018년1월1일', '2018년1월4일', '2018년1월5일', '2018년1월6일']\n",
    "idx = pd.to_datetime(date_str)\n",
    "idx"
   ]
  },
  {
   "cell_type": "code",
   "execution_count": null,
   "metadata": {},
   "outputs": [],
   "source": [
    "# 문자타입 오류\n",
    "date_str = ['2018.1.1', '2018/1/4', '2018,1,5', '2018.1.6']\n",
    "idx = pd.to_datetime(date_str)\n",
    "idx"
   ]
  },
  {
   "cell_type": "code",
   "execution_count": 7,
   "metadata": {},
   "outputs": [
    {
     "data": {
      "text/plain": [
       "2018-01-01   -0.048697\n",
       "2018-01-04    0.998262\n",
       "2018-01-05    0.046862\n",
       "2018-01-06    0.243245\n",
       "dtype: float64"
      ]
     },
     "execution_count": 7,
     "metadata": {},
     "output_type": "execute_result"
    }
   ],
   "source": [
    "# 인덱스 타입 : datetime 타입\n",
    "s = pd.Series(np.random.randn(4), index=idx)\n",
    "s"
   ]
  },
  {
   "cell_type": "code",
   "execution_count": 10,
   "metadata": {},
   "outputs": [
    {
     "data": {
      "text/plain": [
       "2018.1.1    0.748241\n",
       "2018.1.4   -1.111446\n",
       "2018.1.5   -0.489745\n",
       "2018.1.6    1.097259\n",
       "dtype: float64"
      ]
     },
     "execution_count": 10,
     "metadata": {},
     "output_type": "execute_result"
    }
   ],
   "source": [
    "# 인덱스 타입 : string 타입\n",
    "s = pd.Series(np.random.randn(4), index=date_str)\n",
    "s"
   ]
  },
  {
   "cell_type": "markdown",
   "metadata": {},
   "source": [
    "`date_range` 메서드는 날짜 및 시간에 대해서 시작일과 종료일/ 시작일과 기간을 입력하여 범위 내의 `DatetimeIndex`를 생성"
   ]
  },
  {
   "cell_type": "code",
   "execution_count": 11,
   "metadata": {},
   "outputs": [
    {
     "data": {
      "text/plain": [
       "DatetimeIndex(['2024-01-01', '2024-01-02', '2024-01-03', '2024-01-04',\n",
       "               '2024-01-05', '2024-01-06', '2024-01-07', '2024-01-08',\n",
       "               '2024-01-09', '2024-01-10', '2024-01-11', '2024-01-12',\n",
       "               '2024-01-13', '2024-01-14', '2024-01-15', '2024-01-16',\n",
       "               '2024-01-17', '2024-01-18', '2024-01-19', '2024-01-20',\n",
       "               '2024-01-21', '2024-01-22', '2024-01-23', '2024-01-24',\n",
       "               '2024-01-25', '2024-01-26', '2024-01-27', '2024-01-28',\n",
       "               '2024-01-29', '2024-01-30', '2024-01-31', '2024-02-01',\n",
       "               '2024-02-02', '2024-02-03', '2024-02-04', '2024-02-05',\n",
       "               '2024-02-06', '2024-02-07', '2024-02-08', '2024-02-09',\n",
       "               '2024-02-10', '2024-02-11', '2024-02-12', '2024-02-13',\n",
       "               '2024-02-14', '2024-02-15', '2024-02-16', '2024-02-17',\n",
       "               '2024-02-18', '2024-02-19', '2024-02-20', '2024-02-21',\n",
       "               '2024-02-22', '2024-02-23', '2024-02-24', '2024-02-25',\n",
       "               '2024-02-26', '2024-02-27', '2024-02-28', '2024-02-29',\n",
       "               '2024-03-01', '2024-03-02', '2024-03-03', '2024-03-04',\n",
       "               '2024-03-05', '2024-03-06', '2024-03-07', '2024-03-08',\n",
       "               '2024-03-09', '2024-03-10', '2024-03-11', '2024-03-12',\n",
       "               '2024-03-13', '2024-03-14', '2024-03-15', '2024-03-16',\n",
       "               '2024-03-17', '2024-03-18', '2024-03-19', '2024-03-20',\n",
       "               '2024-03-21', '2024-03-22', '2024-03-23', '2024-03-24',\n",
       "               '2024-03-25', '2024-03-26', '2024-03-27', '2024-03-28',\n",
       "               '2024-03-29', '2024-03-30', '2024-03-31'],\n",
       "              dtype='datetime64[ns]', freq='D')"
      ]
     },
     "execution_count": 11,
     "metadata": {},
     "output_type": "execute_result"
    }
   ],
   "source": [
    "pd.date_range('2024-01-01','2024-03-31')"
   ]
  },
  {
   "cell_type": "code",
   "execution_count": 12,
   "metadata": {},
   "outputs": [
    {
     "data": {
      "text/plain": [
       "DatetimeIndex(['2024-01-01', '2024-01-02', '2024-01-03', '2024-01-04',\n",
       "               '2024-01-05', '2024-01-06', '2024-01-07', '2024-01-08',\n",
       "               '2024-01-09', '2024-01-10', '2024-01-11', '2024-01-12',\n",
       "               '2024-01-13', '2024-01-14', '2024-01-15', '2024-01-16',\n",
       "               '2024-01-17', '2024-01-18', '2024-01-19', '2024-01-20',\n",
       "               '2024-01-21', '2024-01-22', '2024-01-23', '2024-01-24',\n",
       "               '2024-01-25', '2024-01-26', '2024-01-27', '2024-01-28',\n",
       "               '2024-01-29', '2024-01-30'],\n",
       "              dtype='datetime64[ns]', freq='D')"
      ]
     },
     "execution_count": 12,
     "metadata": {},
     "output_type": "execute_result"
    }
   ],
   "source": [
    "pd.date_range('2024-01-01', periods = 30)"
   ]
  },
  {
   "cell_type": "markdown",
   "metadata": {},
   "source": [
    "`freq` 인수로 특정한 날짜만 생성되도록 할 수 있음"
   ]
  },
  {
   "cell_type": "code",
   "execution_count": 13,
   "metadata": {},
   "outputs": [
    {
     "data": {
      "text/plain": [
       "DatetimeIndex(['2024-02-29 09:48:00', '2024-02-29 09:48:01',\n",
       "               '2024-02-29 09:48:02', '2024-02-29 09:48:03',\n",
       "               '2024-02-29 09:48:04', '2024-02-29 09:48:05',\n",
       "               '2024-02-29 09:48:06', '2024-02-29 09:48:07',\n",
       "               '2024-02-29 09:48:08', '2024-02-29 09:48:09',\n",
       "               '2024-02-29 09:48:10'],\n",
       "              dtype='datetime64[ns]', freq='s')"
      ]
     },
     "execution_count": 13,
     "metadata": {},
     "output_type": "execute_result"
    }
   ],
   "source": [
    "# s : 초\n",
    "# T : 분\n",
    "# H : 시간\n",
    "# D : 일(day)\n",
    "pd.date_range('2024-02-29 09:48:00', '2024-02-29 09:48:10', freq='s')"
   ]
  },
  {
   "cell_type": "code",
   "execution_count": 14,
   "metadata": {},
   "outputs": [
    {
     "data": {
      "text/plain": [
       "DatetimeIndex(['2024-02-01', '2024-02-02', '2024-02-05', '2024-02-06',\n",
       "               '2024-02-07', '2024-02-08', '2024-02-09', '2024-02-12',\n",
       "               '2024-02-13', '2024-02-14', '2024-02-15', '2024-02-16',\n",
       "               '2024-02-19', '2024-02-20', '2024-02-21', '2024-02-22',\n",
       "               '2024-02-23', '2024-02-26', '2024-02-27', '2024-02-28',\n",
       "               '2024-02-29'],\n",
       "              dtype='datetime64[ns]', freq='B')"
      ]
     },
     "execution_count": 14,
     "metadata": {},
     "output_type": "execute_result"
    }
   ],
   "source": [
    "# B : 평일\n",
    "pd.date_range('2024-02-01', '2024-02-29', freq= 'B')"
   ]
  },
  {
   "cell_type": "code",
   "execution_count": 17,
   "metadata": {},
   "outputs": [
    {
     "data": {
      "text/plain": [
       "DatetimeIndex(['2024-03-31', '2024-06-30', '2024-09-30', '2024-12-31'], dtype='datetime64[ns]', freq='QE-DEC')"
      ]
     },
     "execution_count": 17,
     "metadata": {},
     "output_type": "execute_result"
    }
   ],
   "source": [
    "# Q_DEC : 각 분기별 마지막 날\n",
    "pd.date_range('2024-01-01', '2024-12-31', freq='QE-DEC')"
   ]
  },
  {
   "cell_type": "markdown",
   "metadata": {},
   "source": [
    "### `shift` 연산\n",
    "`shift()` 메서드는 인덱스는 그대로 두고 데이터만 이동  \n",
    "\n",
    "`freq` 인수를 지정하면 인덱스를 변경시킴"
   ]
  },
  {
   "cell_type": "code",
   "execution_count": 36,
   "metadata": {},
   "outputs": [
    {
     "data": {
      "text/plain": [
       "2024-02-29   -0.602738\n",
       "2024-03-31   -1.734232\n",
       "2024-04-30    0.093158\n",
       "2024-05-31    1.106094\n",
       "Freq: ME, dtype: float64"
      ]
     },
     "execution_count": 36,
     "metadata": {},
     "output_type": "execute_result"
    }
   ],
   "source": [
    "ts = pd.Series(np.random.randn(4), index = pd.date_range(\n",
    "    '2024-02-01', periods=4, freq='ME'))\n",
    "ts"
   ]
  },
  {
   "cell_type": "code",
   "execution_count": 37,
   "metadata": {},
   "outputs": [
    {
     "data": {
      "text/plain": [
       "2024-02-29         NaN\n",
       "2024-03-31   -0.602738\n",
       "2024-04-30   -1.734232\n",
       "2024-05-31    0.093158\n",
       "Freq: ME, dtype: float64"
      ]
     },
     "execution_count": 37,
     "metadata": {},
     "output_type": "execute_result"
    }
   ],
   "source": [
    "ts.shift(1)"
   ]
  },
  {
   "cell_type": "code",
   "execution_count": 38,
   "metadata": {},
   "outputs": [
    {
     "data": {
      "text/plain": [
       "2024-02-29   -1.734232\n",
       "2024-03-31    0.093158\n",
       "2024-04-30    1.106094\n",
       "2024-05-31         NaN\n",
       "Freq: ME, dtype: float64"
      ]
     },
     "execution_count": 38,
     "metadata": {},
     "output_type": "execute_result"
    }
   ],
   "source": [
    "ts.shift(-1)"
   ]
  },
  {
   "cell_type": "code",
   "execution_count": 39,
   "metadata": {},
   "outputs": [
    {
     "data": {
      "text/plain": [
       "2024-04-30   -0.602738\n",
       "2024-05-31   -1.734232\n",
       "2024-06-30    0.093158\n",
       "2024-07-31    1.106094\n",
       "Freq: ME, dtype: float64"
      ]
     },
     "execution_count": 39,
     "metadata": {},
     "output_type": "execute_result"
    }
   ],
   "source": [
    "ts.shift(2, freq='ME')"
   ]
  },
  {
   "cell_type": "markdown",
   "metadata": {},
   "source": [
    "### `resample` 메서드\n",
    "`resample()` 메서드는 `DatetimeIndex`의 시간 간격을 재조정함  \n",
    "\n",
    "시간 간격이 좁은 단위로 변경하면 데이터 양이 증가해서 업-샘플링(up-sampling)이라 하고  \n",
    "\n",
    "넓은 단위로 변경하면 데이터 양이 감소해서 다운-샘플링(down-sampling)이라 함"
   ]
  },
  {
   "cell_type": "code",
   "execution_count": 21,
   "metadata": {},
   "outputs": [
    {
     "data": {
      "text/plain": [
       "2024-04-21    0.794217\n",
       "2024-04-22    0.660430\n",
       "2024-04-23   -0.647183\n",
       "2024-04-24   -0.435798\n",
       "2024-04-25    0.308219\n",
       "2024-04-26    0.664629\n",
       "2024-04-27    1.621557\n",
       "2024-04-28   -0.698112\n",
       "2024-04-29    0.765076\n",
       "2024-04-30    0.403193\n",
       "2024-05-01    0.654919\n",
       "2024-05-02   -1.726207\n",
       "2024-05-03   -0.688090\n",
       "2024-05-04   -1.899922\n",
       "2024-05-05    0.160946\n",
       "2024-05-06    0.969617\n",
       "2024-05-07    0.076490\n",
       "2024-05-08   -0.541345\n",
       "2024-05-09    0.842125\n",
       "2024-05-10    2.230957\n",
       "Freq: D, dtype: float64"
      ]
     },
     "execution_count": 21,
     "metadata": {},
     "output_type": "execute_result"
    }
   ],
   "source": [
    "ts = pd.Series(np.random.randn(100), index=pd.date_range(\n",
    "    \"2024-02-01\", periods=100))\n",
    "ts.tail(20)"
   ]
  },
  {
   "cell_type": "markdown",
   "metadata": {},
   "source": [
    "다운-샘플링 시에는 기존 데이터가 그룹화되는 경우 대표값을 지정해야함(집계처리를 해야함)"
   ]
  },
  {
   "cell_type": "code",
   "execution_count": 23,
   "metadata": {},
   "outputs": [
    {
     "data": {
      "text/plain": [
       "2024-02-04    0.068523\n",
       "2024-02-11    0.597026\n",
       "2024-02-18    1.007825\n",
       "2024-02-25   -0.653238\n",
       "2024-03-03   -0.789806\n",
       "2024-03-10    0.513277\n",
       "2024-03-17    0.035908\n",
       "2024-03-24    0.370893\n",
       "2024-03-31   -0.023920\n",
       "2024-04-07   -0.490446\n",
       "2024-04-14    0.118628\n",
       "2024-04-21   -0.204616\n",
       "2024-04-28    0.210535\n",
       "2024-05-05   -0.332869\n",
       "2024-05-12    0.715569\n",
       "Freq: W-SUN, dtype: float64"
      ]
     },
     "execution_count": 23,
     "metadata": {},
     "output_type": "execute_result"
    }
   ],
   "source": [
    "ts.resample('W').mean()"
   ]
  },
  {
   "cell_type": "markdown",
   "metadata": {},
   "source": [
    "시간(시/분) 단위에서는 가장 빠른 값은 포함하고 가낭 늦은 값은 포함하지 않음  "
   ]
  },
  {
   "cell_type": "code",
   "execution_count": 26,
   "metadata": {},
   "outputs": [
    {
     "data": {
      "text/plain": [
       "2024-02-29 00:00:00     0\n",
       "2024-02-29 00:01:00     1\n",
       "2024-02-29 00:02:00     2\n",
       "2024-02-29 00:03:00     3\n",
       "2024-02-29 00:04:00     4\n",
       "2024-02-29 00:05:00     5\n",
       "2024-02-29 00:06:00     6\n",
       "2024-02-29 00:07:00     7\n",
       "2024-02-29 00:08:00     8\n",
       "2024-02-29 00:09:00     9\n",
       "2024-02-29 00:10:00    10\n",
       "2024-02-29 00:11:00    11\n",
       "2024-02-29 00:12:00    12\n",
       "2024-02-29 00:13:00    13\n",
       "2024-02-29 00:14:00    14\n",
       "2024-02-29 00:15:00    15\n",
       "2024-02-29 00:16:00    16\n",
       "2024-02-29 00:17:00    17\n",
       "2024-02-29 00:18:00    18\n",
       "2024-02-29 00:19:00    19\n",
       "2024-02-29 00:20:00    20\n",
       "2024-02-29 00:21:00    21\n",
       "2024-02-29 00:22:00    22\n",
       "2024-02-29 00:23:00    23\n",
       "2024-02-29 00:24:00    24\n",
       "2024-02-29 00:25:00    25\n",
       "2024-02-29 00:26:00    26\n",
       "2024-02-29 00:27:00    27\n",
       "2024-02-29 00:28:00    28\n",
       "2024-02-29 00:29:00    29\n",
       "2024-02-29 00:30:00    30\n",
       "2024-02-29 00:31:00    31\n",
       "2024-02-29 00:32:00    32\n",
       "2024-02-29 00:33:00    33\n",
       "2024-02-29 00:34:00    34\n",
       "2024-02-29 00:35:00    35\n",
       "2024-02-29 00:36:00    36\n",
       "2024-02-29 00:37:00    37\n",
       "2024-02-29 00:38:00    38\n",
       "2024-02-29 00:39:00    39\n",
       "2024-02-29 00:40:00    40\n",
       "2024-02-29 00:41:00    41\n",
       "2024-02-29 00:42:00    42\n",
       "2024-02-29 00:43:00    43\n",
       "2024-02-29 00:44:00    44\n",
       "2024-02-29 00:45:00    45\n",
       "2024-02-29 00:46:00    46\n",
       "2024-02-29 00:47:00    47\n",
       "2024-02-29 00:48:00    48\n",
       "2024-02-29 00:49:00    49\n",
       "2024-02-29 00:50:00    50\n",
       "2024-02-29 00:51:00    51\n",
       "2024-02-29 00:52:00    52\n",
       "2024-02-29 00:53:00    53\n",
       "2024-02-29 00:54:00    54\n",
       "2024-02-29 00:55:00    55\n",
       "2024-02-29 00:56:00    56\n",
       "2024-02-29 00:57:00    57\n",
       "2024-02-29 00:58:00    58\n",
       "2024-02-29 00:59:00    59\n",
       "Freq: min, dtype: int32"
      ]
     },
     "execution_count": 26,
     "metadata": {},
     "output_type": "execute_result"
    }
   ],
   "source": [
    "ts = pd.Series(np.arange(60), index=pd.date_range('2024-02-29', periods=60, freq='min'))\n",
    "ts"
   ]
  },
  {
   "cell_type": "code",
   "execution_count": 27,
   "metadata": {},
   "outputs": [
    {
     "data": {
      "text/plain": [
       "2024-02-29 00:00:00     0\n",
       "2024-02-29 00:10:00    10\n",
       "2024-02-29 00:20:00    20\n",
       "2024-02-29 00:30:00    30\n",
       "2024-02-29 00:40:00    40\n",
       "2024-02-29 00:50:00    50\n",
       "Freq: 10min, dtype: int32"
      ]
     },
     "execution_count": 27,
     "metadata": {},
     "output_type": "execute_result"
    }
   ],
   "source": [
    "# 10분 단위로 변경\n",
    "ts.resample('10min').min()"
   ]
  },
  {
   "cell_type": "code",
   "execution_count": 28,
   "metadata": {},
   "outputs": [
    {
     "data": {
      "text/plain": [
       "2024-02-29 00:00:00     9\n",
       "2024-02-29 00:10:00    19\n",
       "2024-02-29 00:20:00    29\n",
       "2024-02-29 00:30:00    39\n",
       "2024-02-29 00:40:00    49\n",
       "2024-02-29 00:50:00    59\n",
       "Freq: 10min, dtype: int32"
      ]
     },
     "execution_count": 28,
     "metadata": {},
     "output_type": "execute_result"
    }
   ],
   "source": [
    "ts.resample('10min').max()"
   ]
  },
  {
   "cell_type": "markdown",
   "metadata": {},
   "source": [
    "구간 한계 값을 가장 늦은 값으로 지정하고자 한다면 `closed = 'right'`를 지정함"
   ]
  },
  {
   "cell_type": "code",
   "execution_count": 29,
   "metadata": {},
   "outputs": [
    {
     "data": {
      "text/plain": [
       "2024-02-28 23:50:00     0\n",
       "2024-02-29 00:00:00     1\n",
       "2024-02-29 00:10:00    11\n",
       "2024-02-29 00:20:00    21\n",
       "2024-02-29 00:30:00    31\n",
       "2024-02-29 00:40:00    41\n",
       "2024-02-29 00:50:00    51\n",
       "Freq: 10min, dtype: int32"
      ]
     },
     "execution_count": 29,
     "metadata": {},
     "output_type": "execute_result"
    }
   ],
   "source": [
    "ts.resample('10min', closed='right').min()"
   ]
  },
  {
   "cell_type": "code",
   "execution_count": 30,
   "metadata": {},
   "outputs": [
    {
     "data": {
      "text/plain": [
       "2024-02-28 23:50:00     0\n",
       "2024-02-29 00:00:00    10\n",
       "2024-02-29 00:10:00    20\n",
       "2024-02-29 00:20:00    30\n",
       "2024-02-29 00:30:00    40\n",
       "2024-02-29 00:40:00    50\n",
       "2024-02-29 00:50:00    59\n",
       "Freq: 10min, dtype: int32"
      ]
     },
     "execution_count": 30,
     "metadata": {},
     "output_type": "execute_result"
    }
   ],
   "source": [
    "ts.resample('10min', closed='right').max()"
   ]
  },
  {
   "cell_type": "markdown",
   "metadata": {},
   "source": [
    "`ohlc()` 메서드는 구간의 시점, 고점, 저점 종점의 값을 표현"
   ]
  },
  {
   "cell_type": "code",
   "execution_count": 31,
   "metadata": {},
   "outputs": [
    {
     "data": {
      "text/html": [
       "<div>\n",
       "<style scoped>\n",
       "    .dataframe tbody tr th:only-of-type {\n",
       "        vertical-align: middle;\n",
       "    }\n",
       "\n",
       "    .dataframe tbody tr th {\n",
       "        vertical-align: top;\n",
       "    }\n",
       "\n",
       "    .dataframe thead th {\n",
       "        text-align: right;\n",
       "    }\n",
       "</style>\n",
       "<table border=\"1\" class=\"dataframe\">\n",
       "  <thead>\n",
       "    <tr style=\"text-align: right;\">\n",
       "      <th></th>\n",
       "      <th>open</th>\n",
       "      <th>high</th>\n",
       "      <th>low</th>\n",
       "      <th>close</th>\n",
       "    </tr>\n",
       "  </thead>\n",
       "  <tbody>\n",
       "    <tr>\n",
       "      <th>2024-02-29 00:00:00</th>\n",
       "      <td>0</td>\n",
       "      <td>9</td>\n",
       "      <td>0</td>\n",
       "      <td>9</td>\n",
       "    </tr>\n",
       "    <tr>\n",
       "      <th>2024-02-29 00:10:00</th>\n",
       "      <td>10</td>\n",
       "      <td>19</td>\n",
       "      <td>10</td>\n",
       "      <td>19</td>\n",
       "    </tr>\n",
       "    <tr>\n",
       "      <th>2024-02-29 00:20:00</th>\n",
       "      <td>20</td>\n",
       "      <td>29</td>\n",
       "      <td>20</td>\n",
       "      <td>29</td>\n",
       "    </tr>\n",
       "    <tr>\n",
       "      <th>2024-02-29 00:30:00</th>\n",
       "      <td>30</td>\n",
       "      <td>39</td>\n",
       "      <td>30</td>\n",
       "      <td>39</td>\n",
       "    </tr>\n",
       "    <tr>\n",
       "      <th>2024-02-29 00:40:00</th>\n",
       "      <td>40</td>\n",
       "      <td>49</td>\n",
       "      <td>40</td>\n",
       "      <td>49</td>\n",
       "    </tr>\n",
       "    <tr>\n",
       "      <th>2024-02-29 00:50:00</th>\n",
       "      <td>50</td>\n",
       "      <td>59</td>\n",
       "      <td>50</td>\n",
       "      <td>59</td>\n",
       "    </tr>\n",
       "  </tbody>\n",
       "</table>\n",
       "</div>"
      ],
      "text/plain": [
       "                     open  high  low  close\n",
       "2024-02-29 00:00:00     0     9    0      9\n",
       "2024-02-29 00:10:00    10    19   10     19\n",
       "2024-02-29 00:20:00    20    29   20     29\n",
       "2024-02-29 00:30:00    30    39   30     39\n",
       "2024-02-29 00:40:00    40    49   40     49\n",
       "2024-02-29 00:50:00    50    59   50     59"
      ]
     },
     "execution_count": 31,
     "metadata": {},
     "output_type": "execute_result"
    }
   ],
   "source": [
    "ts.resample('10min').ohlc()"
   ]
  },
  {
   "cell_type": "code",
   "execution_count": 32,
   "metadata": {},
   "outputs": [
    {
     "data": {
      "text/html": [
       "<div>\n",
       "<style scoped>\n",
       "    .dataframe tbody tr th:only-of-type {\n",
       "        vertical-align: middle;\n",
       "    }\n",
       "\n",
       "    .dataframe tbody tr th {\n",
       "        vertical-align: top;\n",
       "    }\n",
       "\n",
       "    .dataframe thead th {\n",
       "        text-align: right;\n",
       "    }\n",
       "</style>\n",
       "<table border=\"1\" class=\"dataframe\">\n",
       "  <thead>\n",
       "    <tr style=\"text-align: right;\">\n",
       "      <th></th>\n",
       "      <th>open</th>\n",
       "      <th>high</th>\n",
       "      <th>low</th>\n",
       "      <th>close</th>\n",
       "    </tr>\n",
       "  </thead>\n",
       "  <tbody>\n",
       "    <tr>\n",
       "      <th>2024-02-28 23:50:00</th>\n",
       "      <td>0</td>\n",
       "      <td>0</td>\n",
       "      <td>0</td>\n",
       "      <td>0</td>\n",
       "    </tr>\n",
       "    <tr>\n",
       "      <th>2024-02-29 00:00:00</th>\n",
       "      <td>1</td>\n",
       "      <td>10</td>\n",
       "      <td>1</td>\n",
       "      <td>10</td>\n",
       "    </tr>\n",
       "    <tr>\n",
       "      <th>2024-02-29 00:10:00</th>\n",
       "      <td>11</td>\n",
       "      <td>20</td>\n",
       "      <td>11</td>\n",
       "      <td>20</td>\n",
       "    </tr>\n",
       "    <tr>\n",
       "      <th>2024-02-29 00:20:00</th>\n",
       "      <td>21</td>\n",
       "      <td>30</td>\n",
       "      <td>21</td>\n",
       "      <td>30</td>\n",
       "    </tr>\n",
       "    <tr>\n",
       "      <th>2024-02-29 00:30:00</th>\n",
       "      <td>31</td>\n",
       "      <td>40</td>\n",
       "      <td>31</td>\n",
       "      <td>40</td>\n",
       "    </tr>\n",
       "    <tr>\n",
       "      <th>2024-02-29 00:40:00</th>\n",
       "      <td>41</td>\n",
       "      <td>50</td>\n",
       "      <td>41</td>\n",
       "      <td>50</td>\n",
       "    </tr>\n",
       "    <tr>\n",
       "      <th>2024-02-29 00:50:00</th>\n",
       "      <td>51</td>\n",
       "      <td>59</td>\n",
       "      <td>51</td>\n",
       "      <td>59</td>\n",
       "    </tr>\n",
       "  </tbody>\n",
       "</table>\n",
       "</div>"
      ],
      "text/plain": [
       "                     open  high  low  close\n",
       "2024-02-28 23:50:00     0     0    0      0\n",
       "2024-02-29 00:00:00     1    10    1     10\n",
       "2024-02-29 00:10:00    11    20   11     20\n",
       "2024-02-29 00:20:00    21    30   21     30\n",
       "2024-02-29 00:30:00    31    40   31     40\n",
       "2024-02-29 00:40:00    41    50   41     50\n",
       "2024-02-29 00:50:00    51    59   51     59"
      ]
     },
     "execution_count": 32,
     "metadata": {},
     "output_type": "execute_result"
    }
   ],
   "source": [
    "ts.resample('10min', closed='right').ohlc()"
   ]
  },
  {
   "cell_type": "markdown",
   "metadata": {},
   "source": [
    "업-샘플링은 데이터를 추가해야하기 때문에 foward filling 방식과 back filling 방식을 사용할 수 있음 \n",
    "\n",
    "foward filling은 이전 데이터를 가져와 사용하는 방법 - `ffiil()`\n",
    "\n",
    "back filling은 다음 데이터를 가져와 사용하는 방법 - `bfill()`"
   ]
  },
  {
   "cell_type": "code",
   "execution_count": 33,
   "metadata": {},
   "outputs": [
    {
     "data": {
      "text/plain": [
       "2024-02-29 00:00:00     0\n",
       "2024-02-29 00:01:00     1\n",
       "2024-02-29 00:02:00     2\n",
       "2024-02-29 00:03:00     3\n",
       "2024-02-29 00:04:00     4\n",
       "2024-02-29 00:05:00     5\n",
       "2024-02-29 00:06:00     6\n",
       "2024-02-29 00:07:00     7\n",
       "2024-02-29 00:08:00     8\n",
       "2024-02-29 00:09:00     9\n",
       "2024-02-29 00:10:00    10\n",
       "2024-02-29 00:11:00    11\n",
       "2024-02-29 00:12:00    12\n",
       "2024-02-29 00:13:00    13\n",
       "2024-02-29 00:14:00    14\n",
       "2024-02-29 00:15:00    15\n",
       "2024-02-29 00:16:00    16\n",
       "2024-02-29 00:17:00    17\n",
       "2024-02-29 00:18:00    18\n",
       "2024-02-29 00:19:00    19\n",
       "2024-02-29 00:20:00    20\n",
       "2024-02-29 00:21:00    21\n",
       "2024-02-29 00:22:00    22\n",
       "2024-02-29 00:23:00    23\n",
       "2024-02-29 00:24:00    24\n",
       "2024-02-29 00:25:00    25\n",
       "2024-02-29 00:26:00    26\n",
       "2024-02-29 00:27:00    27\n",
       "2024-02-29 00:28:00    28\n",
       "2024-02-29 00:29:00    29\n",
       "2024-02-29 00:30:00    30\n",
       "2024-02-29 00:31:00    31\n",
       "2024-02-29 00:32:00    32\n",
       "2024-02-29 00:33:00    33\n",
       "2024-02-29 00:34:00    34\n",
       "2024-02-29 00:35:00    35\n",
       "2024-02-29 00:36:00    36\n",
       "2024-02-29 00:37:00    37\n",
       "2024-02-29 00:38:00    38\n",
       "2024-02-29 00:39:00    39\n",
       "2024-02-29 00:40:00    40\n",
       "2024-02-29 00:41:00    41\n",
       "2024-02-29 00:42:00    42\n",
       "2024-02-29 00:43:00    43\n",
       "2024-02-29 00:44:00    44\n",
       "2024-02-29 00:45:00    45\n",
       "2024-02-29 00:46:00    46\n",
       "2024-02-29 00:47:00    47\n",
       "2024-02-29 00:48:00    48\n",
       "2024-02-29 00:49:00    49\n",
       "2024-02-29 00:50:00    50\n",
       "2024-02-29 00:51:00    51\n",
       "2024-02-29 00:52:00    52\n",
       "2024-02-29 00:53:00    53\n",
       "2024-02-29 00:54:00    54\n",
       "2024-02-29 00:55:00    55\n",
       "2024-02-29 00:56:00    56\n",
       "2024-02-29 00:57:00    57\n",
       "2024-02-29 00:58:00    58\n",
       "2024-02-29 00:59:00    59\n",
       "Freq: min, dtype: int32"
      ]
     },
     "execution_count": 33,
     "metadata": {},
     "output_type": "execute_result"
    }
   ],
   "source": [
    "ts"
   ]
  },
  {
   "cell_type": "code",
   "execution_count": 34,
   "metadata": {},
   "outputs": [
    {
     "data": {
      "text/plain": [
       "2024-02-29 00:00:00     0\n",
       "2024-02-29 00:00:30     0\n",
       "2024-02-29 00:01:00     1\n",
       "2024-02-29 00:01:30     1\n",
       "2024-02-29 00:02:00     2\n",
       "                       ..\n",
       "2024-02-29 00:57:00    57\n",
       "2024-02-29 00:57:30    57\n",
       "2024-02-29 00:58:00    58\n",
       "2024-02-29 00:58:30    58\n",
       "2024-02-29 00:59:00    59\n",
       "Freq: 30s, Length: 119, dtype: int32"
      ]
     },
     "execution_count": 34,
     "metadata": {},
     "output_type": "execute_result"
    }
   ],
   "source": [
    "ts.resample('30s').ffill()"
   ]
  },
  {
   "cell_type": "code",
   "execution_count": 35,
   "metadata": {},
   "outputs": [
    {
     "data": {
      "text/plain": [
       "2024-02-29 00:00:00     0\n",
       "2024-02-29 00:00:30     1\n",
       "2024-02-29 00:01:00     1\n",
       "2024-02-29 00:01:30     2\n",
       "2024-02-29 00:02:00     2\n",
       "                       ..\n",
       "2024-02-29 00:57:00    57\n",
       "2024-02-29 00:57:30    58\n",
       "2024-02-29 00:58:00    58\n",
       "2024-02-29 00:58:30    59\n",
       "2024-02-29 00:59:00    59\n",
       "Freq: 30s, Length: 119, dtype: int32"
      ]
     },
     "execution_count": 35,
     "metadata": {},
     "output_type": "execute_result"
    }
   ],
   "source": [
    "ts.resample('30s').bfill()"
   ]
  },
  {
   "cell_type": "markdown",
   "metadata": {},
   "source": [
    "### `dt` 접근자\n",
    "datetime의 데이터 타입 시리즈는 `dt` 접근자를 사용하여 datetime 데이터 타입이 가지는 여러가지 속성 및 메서드를 사용할 수 있음"
   ]
  },
  {
   "cell_type": "code",
   "execution_count": 40,
   "metadata": {},
   "outputs": [
    {
     "data": {
      "text/plain": [
       "0   2024-01-01\n",
       "1   2024-01-02\n",
       "2   2024-01-03\n",
       "3   2024-01-04\n",
       "4   2024-01-05\n",
       "5   2024-01-06\n",
       "6   2024-01-07\n",
       "7   2024-01-08\n",
       "8   2024-01-09\n",
       "9   2024-01-10\n",
       "dtype: datetime64[ns]"
      ]
     },
     "execution_count": 40,
     "metadata": {},
     "output_type": "execute_result"
    }
   ],
   "source": [
    "s = pd.Series(pd.date_range('2024-01-01', periods=10))\n",
    "s"
   ]
  },
  {
   "cell_type": "markdown",
   "metadata": {},
   "source": [
    "year, month, day와 같은 속성을 사용할 수 있음"
   ]
  },
  {
   "cell_type": "code",
   "execution_count": 41,
   "metadata": {},
   "outputs": [
    {
     "data": {
      "text/plain": [
       "0     1\n",
       "1     2\n",
       "2     3\n",
       "3     4\n",
       "4     5\n",
       "5     6\n",
       "6     7\n",
       "7     8\n",
       "8     9\n",
       "9    10\n",
       "dtype: int32"
      ]
     },
     "execution_count": 41,
     "metadata": {},
     "output_type": "execute_result"
    }
   ],
   "source": [
    "s.dt.day"
   ]
  },
  {
   "cell_type": "code",
   "execution_count": 42,
   "metadata": {},
   "outputs": [
    {
     "data": {
      "text/plain": [
       "0    2024\n",
       "1    2024\n",
       "2    2024\n",
       "3    2024\n",
       "4    2024\n",
       "5    2024\n",
       "6    2024\n",
       "7    2024\n",
       "8    2024\n",
       "9    2024\n",
       "dtype: int32"
      ]
     },
     "execution_count": 42,
     "metadata": {},
     "output_type": "execute_result"
    }
   ],
   "source": [
    "s.dt.year"
   ]
  },
  {
   "cell_type": "markdown",
   "metadata": {},
   "source": [
    "`strftime()` 메서드를 사용하여 datetime 데이터 타입의 데이터를 문자열 데이터로 변경 할 수 있음"
   ]
  },
  {
   "cell_type": "code",
   "execution_count": 43,
   "metadata": {},
   "outputs": [
    {
     "data": {
      "text/plain": [
       "0    2024-01-01 00:00:00\n",
       "1    2024-01-02 00:00:00\n",
       "2    2024-01-03 00:00:00\n",
       "3    2024-01-04 00:00:00\n",
       "4    2024-01-05 00:00:00\n",
       "5    2024-01-06 00:00:00\n",
       "6    2024-01-07 00:00:00\n",
       "7    2024-01-08 00:00:00\n",
       "8    2024-01-09 00:00:00\n",
       "9    2024-01-10 00:00:00\n",
       "dtype: object"
      ]
     },
     "execution_count": 43,
     "metadata": {},
     "output_type": "execute_result"
    }
   ],
   "source": [
    "s.dt.strftime('%Y. %m. %d. %H:%M:%s')"
   ]
  },
  {
   "cell_type": "markdown",
   "metadata": {},
   "source": [
    "파이썬으로 다음 연산을 수행한다.\n",
    "\n",
    "다음 명령으로 만들어진 데이터프레임에 대해 월별 value의 합계를 구하라. (힌트: `groupby` 메서드와 `dt` 접근자를 사용하라)\n",
    "``` python\n",
    "np.random.seed(0)\n",
    "df = pd.DataFrame({\n",
    "    \"date\": pd.date_range(\"2020-12-25\", periods=100, freq=\"D\"),\n",
    "    \"value\": np.random.randint(100, size=(100,))\n",
    "})\n",
    "```"
   ]
  },
  {
   "cell_type": "code",
   "execution_count": 54,
   "metadata": {},
   "outputs": [
    {
     "data": {
      "text/html": [
       "<div>\n",
       "<style scoped>\n",
       "    .dataframe tbody tr th:only-of-type {\n",
       "        vertical-align: middle;\n",
       "    }\n",
       "\n",
       "    .dataframe tbody tr th {\n",
       "        vertical-align: top;\n",
       "    }\n",
       "\n",
       "    .dataframe thead th {\n",
       "        text-align: right;\n",
       "    }\n",
       "</style>\n",
       "<table border=\"1\" class=\"dataframe\">\n",
       "  <thead>\n",
       "    <tr style=\"text-align: right;\">\n",
       "      <th></th>\n",
       "      <th>date</th>\n",
       "      <th>value</th>\n",
       "    </tr>\n",
       "  </thead>\n",
       "  <tbody>\n",
       "    <tr>\n",
       "      <th>0</th>\n",
       "      <td>2020-12-25</td>\n",
       "      <td>44</td>\n",
       "    </tr>\n",
       "    <tr>\n",
       "      <th>1</th>\n",
       "      <td>2020-12-26</td>\n",
       "      <td>47</td>\n",
       "    </tr>\n",
       "    <tr>\n",
       "      <th>2</th>\n",
       "      <td>2020-12-27</td>\n",
       "      <td>64</td>\n",
       "    </tr>\n",
       "    <tr>\n",
       "      <th>3</th>\n",
       "      <td>2020-12-28</td>\n",
       "      <td>67</td>\n",
       "    </tr>\n",
       "    <tr>\n",
       "      <th>4</th>\n",
       "      <td>2020-12-29</td>\n",
       "      <td>67</td>\n",
       "    </tr>\n",
       "    <tr>\n",
       "      <th>...</th>\n",
       "      <td>...</td>\n",
       "      <td>...</td>\n",
       "    </tr>\n",
       "    <tr>\n",
       "      <th>95</th>\n",
       "      <td>2021-03-30</td>\n",
       "      <td>23</td>\n",
       "    </tr>\n",
       "    <tr>\n",
       "      <th>96</th>\n",
       "      <td>2021-03-31</td>\n",
       "      <td>79</td>\n",
       "    </tr>\n",
       "    <tr>\n",
       "      <th>97</th>\n",
       "      <td>2021-04-01</td>\n",
       "      <td>13</td>\n",
       "    </tr>\n",
       "    <tr>\n",
       "      <th>98</th>\n",
       "      <td>2021-04-02</td>\n",
       "      <td>85</td>\n",
       "    </tr>\n",
       "    <tr>\n",
       "      <th>99</th>\n",
       "      <td>2021-04-03</td>\n",
       "      <td>48</td>\n",
       "    </tr>\n",
       "  </tbody>\n",
       "</table>\n",
       "<p>100 rows × 2 columns</p>\n",
       "</div>"
      ],
      "text/plain": [
       "         date  value\n",
       "0  2020-12-25     44\n",
       "1  2020-12-26     47\n",
       "2  2020-12-27     64\n",
       "3  2020-12-28     67\n",
       "4  2020-12-29     67\n",
       "..        ...    ...\n",
       "95 2021-03-30     23\n",
       "96 2021-03-31     79\n",
       "97 2021-04-01     13\n",
       "98 2021-04-02     85\n",
       "99 2021-04-03     48\n",
       "\n",
       "[100 rows x 2 columns]"
      ]
     },
     "execution_count": 54,
     "metadata": {},
     "output_type": "execute_result"
    }
   ],
   "source": [
    "np.random.seed(0)\n",
    "df = pd.DataFrame({\n",
    "    \"date\": pd.date_range(\"2020-12-25\", periods=100, freq=\"D\"),\n",
    "    \"value\": np.random.randint(100, size=(100,))\n",
    "})\n",
    "df"
   ]
  },
  {
   "cell_type": "code",
   "execution_count": 55,
   "metadata": {},
   "outputs": [
    {
     "data": {
      "text/html": [
       "<div>\n",
       "<style scoped>\n",
       "    .dataframe tbody tr th:only-of-type {\n",
       "        vertical-align: middle;\n",
       "    }\n",
       "\n",
       "    .dataframe tbody tr th {\n",
       "        vertical-align: top;\n",
       "    }\n",
       "\n",
       "    .dataframe thead th {\n",
       "        text-align: right;\n",
       "    }\n",
       "</style>\n",
       "<table border=\"1\" class=\"dataframe\">\n",
       "  <thead>\n",
       "    <tr style=\"text-align: right;\">\n",
       "      <th></th>\n",
       "      <th>date</th>\n",
       "      <th>value</th>\n",
       "    </tr>\n",
       "  </thead>\n",
       "  <tbody>\n",
       "    <tr>\n",
       "      <th>0</th>\n",
       "      <td>12</td>\n",
       "      <td>44</td>\n",
       "    </tr>\n",
       "    <tr>\n",
       "      <th>1</th>\n",
       "      <td>12</td>\n",
       "      <td>47</td>\n",
       "    </tr>\n",
       "    <tr>\n",
       "      <th>2</th>\n",
       "      <td>12</td>\n",
       "      <td>64</td>\n",
       "    </tr>\n",
       "    <tr>\n",
       "      <th>3</th>\n",
       "      <td>12</td>\n",
       "      <td>67</td>\n",
       "    </tr>\n",
       "    <tr>\n",
       "      <th>4</th>\n",
       "      <td>12</td>\n",
       "      <td>67</td>\n",
       "    </tr>\n",
       "    <tr>\n",
       "      <th>...</th>\n",
       "      <td>...</td>\n",
       "      <td>...</td>\n",
       "    </tr>\n",
       "    <tr>\n",
       "      <th>95</th>\n",
       "      <td>3</td>\n",
       "      <td>23</td>\n",
       "    </tr>\n",
       "    <tr>\n",
       "      <th>96</th>\n",
       "      <td>3</td>\n",
       "      <td>79</td>\n",
       "    </tr>\n",
       "    <tr>\n",
       "      <th>97</th>\n",
       "      <td>4</td>\n",
       "      <td>13</td>\n",
       "    </tr>\n",
       "    <tr>\n",
       "      <th>98</th>\n",
       "      <td>4</td>\n",
       "      <td>85</td>\n",
       "    </tr>\n",
       "    <tr>\n",
       "      <th>99</th>\n",
       "      <td>4</td>\n",
       "      <td>48</td>\n",
       "    </tr>\n",
       "  </tbody>\n",
       "</table>\n",
       "<p>100 rows × 2 columns</p>\n",
       "</div>"
      ],
      "text/plain": [
       "    date  value\n",
       "0     12     44\n",
       "1     12     47\n",
       "2     12     64\n",
       "3     12     67\n",
       "4     12     67\n",
       "..   ...    ...\n",
       "95     3     23\n",
       "96     3     79\n",
       "97     4     13\n",
       "98     4     85\n",
       "99     4     48\n",
       "\n",
       "[100 rows x 2 columns]"
      ]
     },
     "execution_count": 55,
     "metadata": {},
     "output_type": "execute_result"
    }
   ],
   "source": [
    "# 데이터프레임에 있는 date만 출력\n",
    "df.date = df.date.dt.month\n",
    "df"
   ]
  },
  {
   "cell_type": "code",
   "execution_count": 57,
   "metadata": {},
   "outputs": [
    {
     "data": {
      "text/html": [
       "<div>\n",
       "<style scoped>\n",
       "    .dataframe tbody tr th:only-of-type {\n",
       "        vertical-align: middle;\n",
       "    }\n",
       "\n",
       "    .dataframe tbody tr th {\n",
       "        vertical-align: top;\n",
       "    }\n",
       "\n",
       "    .dataframe thead th {\n",
       "        text-align: right;\n",
       "    }\n",
       "</style>\n",
       "<table border=\"1\" class=\"dataframe\">\n",
       "  <thead>\n",
       "    <tr style=\"text-align: right;\">\n",
       "      <th></th>\n",
       "      <th>value</th>\n",
       "    </tr>\n",
       "    <tr>\n",
       "      <th>date</th>\n",
       "      <th></th>\n",
       "    </tr>\n",
       "  </thead>\n",
       "  <tbody>\n",
       "    <tr>\n",
       "      <th>1</th>\n",
       "      <td>1811</td>\n",
       "    </tr>\n",
       "    <tr>\n",
       "      <th>2</th>\n",
       "      <td>985</td>\n",
       "    </tr>\n",
       "    <tr>\n",
       "      <th>3</th>\n",
       "      <td>1500</td>\n",
       "    </tr>\n",
       "    <tr>\n",
       "      <th>4</th>\n",
       "      <td>146</td>\n",
       "    </tr>\n",
       "    <tr>\n",
       "      <th>12</th>\n",
       "      <td>381</td>\n",
       "    </tr>\n",
       "  </tbody>\n",
       "</table>\n",
       "</div>"
      ],
      "text/plain": [
       "      value\n",
       "date       \n",
       "1      1811\n",
       "2       985\n",
       "3      1500\n",
       "4       146\n",
       "12      381"
      ]
     },
     "execution_count": 57,
     "metadata": {},
     "output_type": "execute_result"
    }
   ],
   "source": [
    "df.groupby(df.date).sum()"
   ]
  }
 ],
 "metadata": {
  "kernelspec": {
   "display_name": "Python 3",
   "language": "python",
   "name": "python3"
  },
  "language_info": {
   "codemirror_mode": {
    "name": "ipython",
    "version": 3
   },
   "file_extension": ".py",
   "mimetype": "text/x-python",
   "name": "python",
   "nbconvert_exporter": "python",
   "pygments_lexer": "ipython3",
   "version": "3.12.2"
  }
 },
 "nbformat": 4,
 "nbformat_minor": 2
}
